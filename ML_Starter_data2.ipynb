# looks good
{
 "cells": [
  {
   "cell_type": "code",
   "execution_count": 13,
   "metadata": {},
   "outputs": [],
   "source": [
    "import pandas as pd\n",
    "import os\n",
    "import sqlite3\n",
    "from sklearn import linear_model"
   ]
  },
  {
   "cell_type": "code",
   "execution_count": 14,
   "metadata": {},
   "outputs": [
    {
     "name": "stdout",
     "output_type": "stream",
     "text": [
      "Initiated successfully\n"
     ]
    }
   ],
   "source": [
    "conn = sqlite3.connect('mock_data.db')\n",
    "\n",
    "print (\"Initiated successfully\")"
   ]
  },
  {
   "cell_type": "code",
   "execution_count": 15,
   "metadata": {},
   "outputs": [],
   "source": [
    "df_db = conn.execute(\"SELECT * FROM MOCK_ML\").fetchall()"
   ]
  },
  {
   "cell_type": "code",
   "execution_count": 16,
   "metadata": {},
   "outputs": [],
   "source": [
    "cols=[\"Mk\",\"Category Type Approved\" ,\"Category Registered\" ,\"Mass (kg)\",\"CO2 (g/km)\" ,\"W (mm)\",\"Steering Axle (mm)\" ,\"Other Axle (mm)\" , \"Ft\" ,\"Fm\" ,\"Engine Capacity (cm3)\",\"Engine Power (KW)\"]"
   ]
  },
  {
   "cell_type": "code",
   "execution_count": 17,
   "metadata": {},
   "outputs": [
    {
     "data": {
      "text/html": [
       "<div>\n",
       "<style scoped>\n",
       "    .dataframe tbody tr th:only-of-type {\n",
       "        vertical-align: middle;\n",
       "    }\n",
       "\n",
       "    .dataframe tbody tr th {\n",
       "        vertical-align: top;\n",
       "    }\n",
       "\n",
       "    .dataframe thead th {\n",
       "        text-align: right;\n",
       "    }\n",
       "</style>\n",
       "<table border=\"1\" class=\"dataframe\">\n",
       "  <thead>\n",
       "    <tr style=\"text-align: right;\">\n",
       "      <th></th>\n",
       "      <th>Mk</th>\n",
       "      <th>Category Type Approved</th>\n",
       "      <th>Category Registered</th>\n",
       "      <th>Mass (kg)</th>\n",
       "      <th>CO2 (g/km)</th>\n",
       "      <th>W (mm)</th>\n",
       "      <th>Steering Axle (mm)</th>\n",
       "      <th>Other Axle (mm)</th>\n",
       "      <th>Ft</th>\n",
       "      <th>Fm</th>\n",
       "      <th>Engine Capacity (cm3)</th>\n",
       "      <th>Engine Power (KW)</th>\n",
       "    </tr>\n",
       "  </thead>\n",
       "  <tbody>\n",
       "    <tr>\n",
       "      <th>0</th>\n",
       "      <td>RENAULT</td>\n",
       "      <td>M1</td>\n",
       "      <td>M1</td>\n",
       "      <td>1253</td>\n",
       "      <td>95</td>\n",
       "      <td>2606</td>\n",
       "      <td>1531</td>\n",
       "      <td>1531</td>\n",
       "      <td>DIESEL</td>\n",
       "      <td>M</td>\n",
       "      <td>1461</td>\n",
       "      <td>66</td>\n",
       "    </tr>\n",
       "    <tr>\n",
       "      <th>1</th>\n",
       "      <td>RENAULT</td>\n",
       "      <td>M1</td>\n",
       "      <td>M1</td>\n",
       "      <td>1253</td>\n",
       "      <td>95</td>\n",
       "      <td>2606</td>\n",
       "      <td>1531</td>\n",
       "      <td>1531</td>\n",
       "      <td>DIESEL</td>\n",
       "      <td>M</td>\n",
       "      <td>1461</td>\n",
       "      <td>66</td>\n",
       "    </tr>\n",
       "    <tr>\n",
       "      <th>2</th>\n",
       "      <td>RENAULT</td>\n",
       "      <td>M1</td>\n",
       "      <td>M1</td>\n",
       "      <td>1253</td>\n",
       "      <td>95</td>\n",
       "      <td>2606</td>\n",
       "      <td>1531</td>\n",
       "      <td>1531</td>\n",
       "      <td>DIESEL</td>\n",
       "      <td>M</td>\n",
       "      <td>1461</td>\n",
       "      <td>66</td>\n",
       "    </tr>\n",
       "    <tr>\n",
       "      <th>3</th>\n",
       "      <td>RENAULT</td>\n",
       "      <td>M1</td>\n",
       "      <td>M1</td>\n",
       "      <td>1253</td>\n",
       "      <td>95</td>\n",
       "      <td>2606</td>\n",
       "      <td>1531</td>\n",
       "      <td>1531</td>\n",
       "      <td>DIESEL</td>\n",
       "      <td>M</td>\n",
       "      <td>1461</td>\n",
       "      <td>66</td>\n",
       "    </tr>\n",
       "    <tr>\n",
       "      <th>4</th>\n",
       "      <td>RENAULT</td>\n",
       "      <td>M1</td>\n",
       "      <td>M1</td>\n",
       "      <td>1253</td>\n",
       "      <td>95</td>\n",
       "      <td>2606</td>\n",
       "      <td>1531</td>\n",
       "      <td>1531</td>\n",
       "      <td>DIESEL</td>\n",
       "      <td>M</td>\n",
       "      <td>1461</td>\n",
       "      <td>66</td>\n",
       "    </tr>\n",
       "  </tbody>\n",
       "</table>\n",
       "</div>"
      ],
      "text/plain": [
       "        Mk Category Type Approved Category Registered  Mass (kg)  CO2 (g/km)  \\\n",
       "0  RENAULT                     M1                  M1       1253          95   \n",
       "1  RENAULT                     M1                  M1       1253          95   \n",
       "2  RENAULT                     M1                  M1       1253          95   \n",
       "3  RENAULT                     M1                  M1       1253          95   \n",
       "4  RENAULT                     M1                  M1       1253          95   \n",
       "\n",
       "   W (mm)  Steering Axle (mm)  Other Axle (mm)      Ft Fm  \\\n",
       "0    2606                1531             1531  DIESEL  M   \n",
       "1    2606                1531             1531  DIESEL  M   \n",
       "2    2606                1531             1531  DIESEL  M   \n",
       "3    2606                1531             1531  DIESEL  M   \n",
       "4    2606                1531             1531  DIESEL  M   \n",
       "\n",
       "   Engine Capacity (cm3)  Engine Power (KW)  \n",
       "0                   1461                 66  \n",
       "1                   1461                 66  \n",
       "2                   1461                 66  \n",
       "3                   1461                 66  \n",
       "4                   1461                 66  "
      ]
     },
     "execution_count": 17,
     "metadata": {},
     "output_type": "execute_result"
    }
   ],
   "source": [
    "ml_mock = pd.DataFrame(df_db, columns=cols)\n",
    "ml_mock.head()"
   ]
  },
  {
   "cell_type": "code",
   "execution_count": 25,
   "metadata": {},
   "outputs": [],
   "source": [
    "x = ml_mock[['Mass (kg)','W (mm)','Steering Axle (mm)','Other Axle (mm)','Engine Capacity (cm3)','Engine Power (KW)']]\n",
    "y = ml_mock['CO2 (g/km)']"
   ]
  },
  {
   "cell_type": "code",
   "execution_count": 26,
   "metadata": {},
   "outputs": [
    {
     "data": {
      "text/plain": [
       "LinearRegression()"
      ]
     },
     "execution_count": 26,
     "metadata": {},
     "output_type": "execute_result"
    }
   ],
   "source": [
    "regr = linear_model.LinearRegression()\n",
    "regr.fit(x,y)"
   ]
  },
  {
   "cell_type": "code",
   "execution_count": 31,
   "metadata": {},
   "outputs": [
    {
     "name": "stdout",
     "output_type": "stream",
     "text": [
      "[98.37944644]\n"
     ]
    }
   ],
   "source": [
    "predictedCO2 = regr.predict([[1000,1000,1000,1000,1000,100]])\n",
    "\n",
    "print(predictedCO2)"
   ]
  },
  {
   "cell_type": "code",
   "execution_count": null,
   "metadata": {},
   "outputs": [],
   "source": []
  }
 ],
 "metadata": {
  "interpreter": {
   "hash": "cb09ad9372374dd32a14f4a691e7ebd606496756a3b04e250fece763a08b8769"
  },
  "kernelspec": {
   "display_name": "Python 3 (ipykernel)",
   "language": "python",
   "name": "python3"
  },
  "language_info": {
   "codemirror_mode": {
    "name": "ipython",
    "version": 3
   },
   "file_extension": ".py",
   "mimetype": "text/x-python",
   "name": "python",
   "nbconvert_exporter": "python",
   "pygments_lexer": "ipython3",
   "version": "3.9.7"
  }
 },
 "nbformat": 4,
 "nbformat_minor": 2
}
