{
 "cells": [
  {
   "cell_type": "code",
   "execution_count": null,
   "id": "30fe8248",
   "metadata": {},
   "outputs": [],
   "source": [
    "import pandas as pd\n",
    "import os\n",
    "import sqlite3\n",
    "from sklearn import linear_model"
   ]
  },
  {
   "cell_type": "code",
   "execution_count": null,
   "id": "5ce045d8",
   "metadata": {},
   "outputs": [],
   "source": [
    "# connect sqlite\n",
    "conn = sqlite3.connect('mock_data.db')\n",
    "\n",
    "print (\"Initiated successfully\")"
   ]
  },
  {
   "cell_type": "code",
   "execution_count": null,
   "id": "eccc1a27",
   "metadata": {},
   "outputs": [],
   "source": [
    "# get data\n",
    "df_db = conn.execute(\"SELECT * FROM MOCK_ML\").fetchall()"
   ]
  },
  {
   "cell_type": "code",
   "execution_count": null,
   "id": "482dc240",
   "metadata": {},
   "outputs": [],
   "source": [
    "# Check columns\n",
    "ml_mock.columns"
   ]
  },
  {
   "cell_type": "code",
   "execution_count": null,
   "id": "2dec8714",
   "metadata": {},
   "outputs": [],
   "source": [
    "# Check columns type\n",
    "ml_mock.info()"
   ]
  },
  {
   "cell_type": "code",
   "execution_count": null,
   "id": "16efb1a6",
   "metadata": {},
   "outputs": [],
   "source": [
    "ml_mock['Mass (kg)'].plot() "
   ]
  },
  {
   "cell_type": "code",
   "execution_count": null,
   "id": "1167ae6b",
   "metadata": {},
   "outputs": [],
   "source": [
    "ml_mock['CO2 (g/km)'].plot() "
   ]
  },
  {
   "cell_type": "code",
   "execution_count": null,
   "id": "265e7b47",
   "metadata": {},
   "outputs": [],
   "source": [
    "# CO2 with mass\n",
    "import matplotlib.pyplot as plt\n",
    "plt.scatter(ml_mock['Mass (kg)'],ml_mock['CO2 (g/km)'])"
   ]
  },
  {
   "cell_type": "code",
   "execution_count": null,
   "id": "1c62e4f8",
   "metadata": {},
   "outputs": [],
   "source": [
    "# CO2 with Engine Power\n",
    "import matplotlib.pyplot as plt\n",
    "plt.scatter(ml_mock['Engine Power (KW)'],ml_mock['CO2 (g/km)'])"
   ]
  },
  {
   "cell_type": "code",
   "execution_count": null,
   "id": "c7c23930",
   "metadata": {},
   "outputs": [],
   "source": [
    "# CO2 with Engine Capacity\n",
    "import matplotlib.pyplot as plt\n",
    "plt.scatter(ml_mock['Engine Capacity (cm3)'],ml_mock['CO2 (g/km)'])"
   ]
  },
  {
   "cell_type": "code",
   "execution_count": null,
   "id": "4e408a32",
   "metadata": {},
   "outputs": [],
   "source": [
    "# Independent and dependent variables\n",
    "x = ml_mock[['Mass (kg)','W (mm)','Steering Axle (mm)','Other Axle (mm)','Engine Capacity (cm3)','Engine Power (KW)']]\n",
    "y = ml_mock['CO2 (g/km)']"
   ]
  },
  {
   "cell_type": "code",
   "execution_count": null,
   "id": "ed3d40f8",
   "metadata": {},
   "outputs": [],
   "source": [
    "# Splitting into training and testing\n",
    "from sklearn.model_selection import train_test_split\n",
    "x_train,x_test,y_train,y_test=train_test_split(x,y,test_size=0.2,random_state=0)"
   ]
  },
  {
   "cell_type": "code",
   "execution_count": null,
   "id": "8b77ba11",
   "metadata": {},
   "outputs": [],
   "source": [
    "# Training linear regression model on training dataset\n",
    "from sklearn.linear_model import LinearRegression\n",
    "lin=LinearRegression()\n",
    "lin.fit(x_train,y_train)\n",
    "print(\"Training data score:\", lin.score(x_train,y_train))\n",
    "print(\"Testing data score: \", lin.score(x_test,y_test))"
   ]
  },
  {
   "cell_type": "code",
   "execution_count": null,
   "id": "a31cc74e",
   "metadata": {},
   "outputs": [],
   "source": [
    "# Prediction from model\n",
    "LR_prediction = lin.predict(x_test)"
   ]
  },
  {
   "cell_type": "code",
   "execution_count": null,
   "id": "b54614fd",
   "metadata": {},
   "outputs": [],
   "source": [
    "# Model accuracy\n",
    "from sklearn.metrics import explained_variance_score, mean_squared_error, r2_score, mean_absolute_error\n",
    "print(\"Mean-Squared Error:\",mean_squared_error(y_test,LR_prediction))\n",
    "print(\"Explained Variance Score:\",explained_variance_score(y_test, LR_prediction))\n",
    "print(\"r2_Score:\",r2_score(y_test,LR_prediction))"
   ]
  },
  {
   "cell_type": "code",
   "execution_count": null,
   "id": "1612b004",
   "metadata": {},
   "outputs": [],
   "source": [
    "# Prediction\n",
    "predictedCO2 =lin.predict([[1000,1000,1000,1000,1000,100]])\n",
    "print(predictedCO2)"
   ]
  },
  {
   "cell_type": "code",
   "execution_count": null,
   "id": "a28ee375",
   "metadata": {},
   "outputs": [],
   "source": []
  },
  {
   "cell_type": "code",
   "execution_count": null,
   "id": "e3604878",
   "metadata": {},
   "outputs": [],
   "source": []
  }
 ],
 "metadata": {
  "kernelspec": {
   "display_name": "PythonData",
   "language": "python",
   "name": "pythondata"
  },
  "language_info": {
   "codemirror_mode": {
    "name": "ipython",
    "version": 3
   },
   "file_extension": ".py",
   "mimetype": "text/x-python",
   "name": "python",
   "nbconvert_exporter": "python",
   "pygments_lexer": "ipython3",
   "version": "3.7.11"
  }
 },
 "nbformat": 4,
 "nbformat_minor": 5
}
