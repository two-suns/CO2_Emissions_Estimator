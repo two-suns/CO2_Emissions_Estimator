{
 "cells": [
  {
   "cell_type": "markdown",
   "metadata": {},
   "source": [
    "# Imports and Database connection"
   ]
  },
  {
   "cell_type": "code",
   "execution_count": 107,
   "metadata": {},
   "outputs": [],
   "source": [
    "%matplotlib inline\n",
    "import matplotlib.pyplot as plt\n",
    "import seaborn as sns"
   ]
  },
  {
   "cell_type": "code",
   "execution_count": 19,
   "metadata": {},
   "outputs": [],
   "source": [
    "import pandas as pd\n",
    "import numpy as np\n",
    "from sqlalchemy import create_engine\n",
    "import psycopg2\n",
    "import os\n",
    "import sys\n",
    "sys.path.append('/Users/abdulhakiim/desktop/projects/data analytics/bootcamp/Final_project/Database') "
   ]
  },
  {
   "cell_type": "code",
   "execution_count": 36,
   "metadata": {},
   "outputs": [],
   "source": [
    "from sklearn import linear_model\n",
    "from sklearn.preprocessing import LabelEncoder\n",
    "from config import password"
   ]
  },
  {
   "cell_type": "code",
   "execution_count": 37,
   "metadata": {},
   "outputs": [],
   "source": [
    "user = 'postgres'\n",
    "password = password\n",
    "host = 'co2.cvdgde1e8bz6.us-east-2.rds.amazonaws.com'\n",
    "port = 5432\n",
    "database = 'co2'\n",
    "engine_1 = create_engine(f'postgresql://' + user + ':' + password + '@' + host + ':' + str(port) + '/' + database , pool_recycle=3600, echo=False)"
   ]
  },
  {
   "cell_type": "code",
   "execution_count": 38,
   "metadata": {},
   "outputs": [],
   "source": [
    "table = \"select * from public.co2_levels\""
   ]
  },
  {
   "cell_type": "code",
   "execution_count": 81,
   "metadata": {},
   "outputs": [],
   "source": [
    "ml_df = pd.read_sql(table, con=engine_1)"
   ]
  },
  {
   "cell_type": "code",
   "execution_count": 82,
   "metadata": {},
   "outputs": [
    {
     "data": {
      "text/html": [
       "<div>\n",
       "<style scoped>\n",
       "    .dataframe tbody tr th:only-of-type {\n",
       "        vertical-align: middle;\n",
       "    }\n",
       "\n",
       "    .dataframe tbody tr th {\n",
       "        vertical-align: top;\n",
       "    }\n",
       "\n",
       "    .dataframe thead th {\n",
       "        text-align: right;\n",
       "    }\n",
       "</style>\n",
       "<table border=\"1\" class=\"dataframe\">\n",
       "  <thead>\n",
       "    <tr style=\"text-align: right;\">\n",
       "      <th></th>\n",
       "      <th>ids</th>\n",
       "      <th>mk</th>\n",
       "      <th>category_type_approved</th>\n",
       "      <th>category_registered</th>\n",
       "      <th>ft</th>\n",
       "      <th>fm</th>\n",
       "      <th>mass</th>\n",
       "      <th>co2</th>\n",
       "      <th>w</th>\n",
       "      <th>steeringaxle</th>\n",
       "      <th>otheraxle</th>\n",
       "      <th>enginecapacity</th>\n",
       "      <th>enginepower</th>\n",
       "    </tr>\n",
       "  </thead>\n",
       "  <tbody>\n",
       "    <tr>\n",
       "      <th>0</th>\n",
       "      <td>3034815</td>\n",
       "      <td>RENAULT</td>\n",
       "      <td>M1</td>\n",
       "      <td>M1</td>\n",
       "      <td>DIESEL</td>\n",
       "      <td>M</td>\n",
       "      <td>1253.0</td>\n",
       "      <td>95.0</td>\n",
       "      <td>2606.0</td>\n",
       "      <td>1531.0</td>\n",
       "      <td>1531.0</td>\n",
       "      <td>1461.0</td>\n",
       "      <td>66.0</td>\n",
       "    </tr>\n",
       "    <tr>\n",
       "      <th>1</th>\n",
       "      <td>3034852</td>\n",
       "      <td>RENAULT</td>\n",
       "      <td>M1</td>\n",
       "      <td>M1</td>\n",
       "      <td>DIESEL</td>\n",
       "      <td>M</td>\n",
       "      <td>1253.0</td>\n",
       "      <td>95.0</td>\n",
       "      <td>2606.0</td>\n",
       "      <td>1531.0</td>\n",
       "      <td>1531.0</td>\n",
       "      <td>1461.0</td>\n",
       "      <td>66.0</td>\n",
       "    </tr>\n",
       "    <tr>\n",
       "      <th>2</th>\n",
       "      <td>3034859</td>\n",
       "      <td>RENAULT</td>\n",
       "      <td>M1</td>\n",
       "      <td>M1</td>\n",
       "      <td>DIESEL</td>\n",
       "      <td>M</td>\n",
       "      <td>1253.0</td>\n",
       "      <td>95.0</td>\n",
       "      <td>2606.0</td>\n",
       "      <td>1531.0</td>\n",
       "      <td>1531.0</td>\n",
       "      <td>1461.0</td>\n",
       "      <td>66.0</td>\n",
       "    </tr>\n",
       "    <tr>\n",
       "      <th>3</th>\n",
       "      <td>3034866</td>\n",
       "      <td>RENAULT</td>\n",
       "      <td>M1</td>\n",
       "      <td>M1</td>\n",
       "      <td>DIESEL</td>\n",
       "      <td>M</td>\n",
       "      <td>1253.0</td>\n",
       "      <td>95.0</td>\n",
       "      <td>2606.0</td>\n",
       "      <td>1531.0</td>\n",
       "      <td>1531.0</td>\n",
       "      <td>1461.0</td>\n",
       "      <td>66.0</td>\n",
       "    </tr>\n",
       "    <tr>\n",
       "      <th>4</th>\n",
       "      <td>3034873</td>\n",
       "      <td>RENAULT</td>\n",
       "      <td>M1</td>\n",
       "      <td>M1</td>\n",
       "      <td>DIESEL</td>\n",
       "      <td>M</td>\n",
       "      <td>1253.0</td>\n",
       "      <td>95.0</td>\n",
       "      <td>2606.0</td>\n",
       "      <td>1531.0</td>\n",
       "      <td>1531.0</td>\n",
       "      <td>1461.0</td>\n",
       "      <td>66.0</td>\n",
       "    </tr>\n",
       "  </tbody>\n",
       "</table>\n",
       "</div>"
      ],
      "text/plain": [
       "       ids       mk category_type_approved category_registered      ft fm  \\\n",
       "0  3034815  RENAULT                     M1                  M1  DIESEL  M   \n",
       "1  3034852  RENAULT                     M1                  M1  DIESEL  M   \n",
       "2  3034859  RENAULT                     M1                  M1  DIESEL  M   \n",
       "3  3034866  RENAULT                     M1                  M1  DIESEL  M   \n",
       "4  3034873  RENAULT                     M1                  M1  DIESEL  M   \n",
       "\n",
       "     mass   co2       w  steeringaxle  otheraxle  enginecapacity  enginepower  \n",
       "0  1253.0  95.0  2606.0        1531.0     1531.0          1461.0         66.0  \n",
       "1  1253.0  95.0  2606.0        1531.0     1531.0          1461.0         66.0  \n",
       "2  1253.0  95.0  2606.0        1531.0     1531.0          1461.0         66.0  \n",
       "3  1253.0  95.0  2606.0        1531.0     1531.0          1461.0         66.0  \n",
       "4  1253.0  95.0  2606.0        1531.0     1531.0          1461.0         66.0  "
      ]
     },
     "execution_count": 82,
     "metadata": {},
     "output_type": "execute_result"
    }
   ],
   "source": [
    "ml_df.head()"
   ]
  },
  {
   "cell_type": "markdown",
   "metadata": {},
   "source": [
    "# Encoder and Clean-Up"
   ]
  },
  {
   "cell_type": "code",
   "execution_count": 83,
   "metadata": {},
   "outputs": [
    {
     "data": {
      "text/html": [
       "<div>\n",
       "<style scoped>\n",
       "    .dataframe tbody tr th:only-of-type {\n",
       "        vertical-align: middle;\n",
       "    }\n",
       "\n",
       "    .dataframe tbody tr th {\n",
       "        vertical-align: top;\n",
       "    }\n",
       "\n",
       "    .dataframe thead th {\n",
       "        text-align: right;\n",
       "    }\n",
       "</style>\n",
       "<table border=\"1\" class=\"dataframe\">\n",
       "  <thead>\n",
       "    <tr style=\"text-align: right;\">\n",
       "      <th></th>\n",
       "      <th>ID</th>\n",
       "      <th>Mk</th>\n",
       "      <th>Category Type Approved</th>\n",
       "      <th>Category Registered</th>\n",
       "      <th>Ft</th>\n",
       "      <th>Fm</th>\n",
       "      <th>Mass (kg)</th>\n",
       "      <th>CO2 (g/km)</th>\n",
       "      <th>W (mm)</th>\n",
       "      <th>Steering Axle (mm)</th>\n",
       "      <th>Other Axle (mm)</th>\n",
       "      <th>Engine Capacity (cm3)</th>\n",
       "      <th>Engine Power (KW)</th>\n",
       "    </tr>\n",
       "  </thead>\n",
       "  <tbody>\n",
       "    <tr>\n",
       "      <th>0</th>\n",
       "      <td>3034815</td>\n",
       "      <td>RENAULT</td>\n",
       "      <td>M1</td>\n",
       "      <td>M1</td>\n",
       "      <td>DIESEL</td>\n",
       "      <td>M</td>\n",
       "      <td>1253.0</td>\n",
       "      <td>95.0</td>\n",
       "      <td>2606.0</td>\n",
       "      <td>1531.0</td>\n",
       "      <td>1531.0</td>\n",
       "      <td>1461.0</td>\n",
       "      <td>66.0</td>\n",
       "    </tr>\n",
       "    <tr>\n",
       "      <th>1</th>\n",
       "      <td>3034852</td>\n",
       "      <td>RENAULT</td>\n",
       "      <td>M1</td>\n",
       "      <td>M1</td>\n",
       "      <td>DIESEL</td>\n",
       "      <td>M</td>\n",
       "      <td>1253.0</td>\n",
       "      <td>95.0</td>\n",
       "      <td>2606.0</td>\n",
       "      <td>1531.0</td>\n",
       "      <td>1531.0</td>\n",
       "      <td>1461.0</td>\n",
       "      <td>66.0</td>\n",
       "    </tr>\n",
       "    <tr>\n",
       "      <th>2</th>\n",
       "      <td>3034859</td>\n",
       "      <td>RENAULT</td>\n",
       "      <td>M1</td>\n",
       "      <td>M1</td>\n",
       "      <td>DIESEL</td>\n",
       "      <td>M</td>\n",
       "      <td>1253.0</td>\n",
       "      <td>95.0</td>\n",
       "      <td>2606.0</td>\n",
       "      <td>1531.0</td>\n",
       "      <td>1531.0</td>\n",
       "      <td>1461.0</td>\n",
       "      <td>66.0</td>\n",
       "    </tr>\n",
       "    <tr>\n",
       "      <th>3</th>\n",
       "      <td>3034866</td>\n",
       "      <td>RENAULT</td>\n",
       "      <td>M1</td>\n",
       "      <td>M1</td>\n",
       "      <td>DIESEL</td>\n",
       "      <td>M</td>\n",
       "      <td>1253.0</td>\n",
       "      <td>95.0</td>\n",
       "      <td>2606.0</td>\n",
       "      <td>1531.0</td>\n",
       "      <td>1531.0</td>\n",
       "      <td>1461.0</td>\n",
       "      <td>66.0</td>\n",
       "    </tr>\n",
       "    <tr>\n",
       "      <th>4</th>\n",
       "      <td>3034873</td>\n",
       "      <td>RENAULT</td>\n",
       "      <td>M1</td>\n",
       "      <td>M1</td>\n",
       "      <td>DIESEL</td>\n",
       "      <td>M</td>\n",
       "      <td>1253.0</td>\n",
       "      <td>95.0</td>\n",
       "      <td>2606.0</td>\n",
       "      <td>1531.0</td>\n",
       "      <td>1531.0</td>\n",
       "      <td>1461.0</td>\n",
       "      <td>66.0</td>\n",
       "    </tr>\n",
       "  </tbody>\n",
       "</table>\n",
       "</div>"
      ],
      "text/plain": [
       "        ID       Mk Category Type Approved Category Registered      Ft Fm  \\\n",
       "0  3034815  RENAULT                     M1                  M1  DIESEL  M   \n",
       "1  3034852  RENAULT                     M1                  M1  DIESEL  M   \n",
       "2  3034859  RENAULT                     M1                  M1  DIESEL  M   \n",
       "3  3034866  RENAULT                     M1                  M1  DIESEL  M   \n",
       "4  3034873  RENAULT                     M1                  M1  DIESEL  M   \n",
       "\n",
       "   Mass (kg)  CO2 (g/km)  W (mm)  Steering Axle (mm)  Other Axle (mm)  \\\n",
       "0     1253.0        95.0  2606.0              1531.0           1531.0   \n",
       "1     1253.0        95.0  2606.0              1531.0           1531.0   \n",
       "2     1253.0        95.0  2606.0              1531.0           1531.0   \n",
       "3     1253.0        95.0  2606.0              1531.0           1531.0   \n",
       "4     1253.0        95.0  2606.0              1531.0           1531.0   \n",
       "\n",
       "   Engine Capacity (cm3)  Engine Power (KW)  \n",
       "0                 1461.0               66.0  \n",
       "1                 1461.0               66.0  \n",
       "2                 1461.0               66.0  \n",
       "3                 1461.0               66.0  \n",
       "4                 1461.0               66.0  "
      ]
     },
     "execution_count": 83,
     "metadata": {},
     "output_type": "execute_result"
    }
   ],
   "source": [
    "ml_df.rename({'fm':'Fm','ft':'Ft','ids':'ID','mk':'Mk','w':'W (mm)','category_type_approved': 'Category Type Approved','category_registered':'Category Registered', 'mass':'Mass (kg)','co2':'CO2 (g/km)','steeringaxle':'Steering Axle (mm)','otheraxle':'Other Axle (mm)','enginecapacity':'Engine Capacity (cm3)','enginepower':'Engine Power (KW)'}, axis=1, inplace=True)\n",
    "ml_df.head()"
   ]
  },
  {
   "cell_type": "code",
   "execution_count": 84,
   "metadata": {},
   "outputs": [
    {
     "data": {
      "text/html": [
       "<div>\n",
       "<style scoped>\n",
       "    .dataframe tbody tr th:only-of-type {\n",
       "        vertical-align: middle;\n",
       "    }\n",
       "\n",
       "    .dataframe tbody tr th {\n",
       "        vertical-align: top;\n",
       "    }\n",
       "\n",
       "    .dataframe thead th {\n",
       "        text-align: right;\n",
       "    }\n",
       "</style>\n",
       "<table border=\"1\" class=\"dataframe\">\n",
       "  <thead>\n",
       "    <tr style=\"text-align: right;\">\n",
       "      <th></th>\n",
       "      <th>ID</th>\n",
       "      <th>Mk</th>\n",
       "      <th>Category Type Approved</th>\n",
       "      <th>Category Registered</th>\n",
       "      <th>Ft</th>\n",
       "      <th>Fm</th>\n",
       "      <th>Mass (kg)</th>\n",
       "      <th>CO2 (g/km)</th>\n",
       "      <th>W (mm)</th>\n",
       "      <th>Steering Axle (mm)</th>\n",
       "      <th>Other Axle (mm)</th>\n",
       "      <th>Engine Capacity (cm3)</th>\n",
       "      <th>Engine Power (KW)</th>\n",
       "    </tr>\n",
       "  </thead>\n",
       "  <tbody>\n",
       "    <tr>\n",
       "      <th>0</th>\n",
       "      <td>3034815</td>\n",
       "      <td>RENAULT</td>\n",
       "      <td>M1</td>\n",
       "      <td>M1</td>\n",
       "      <td>Diesel</td>\n",
       "      <td>M</td>\n",
       "      <td>1253.0</td>\n",
       "      <td>95.0</td>\n",
       "      <td>2606.0</td>\n",
       "      <td>1531.0</td>\n",
       "      <td>1531.0</td>\n",
       "      <td>1461.0</td>\n",
       "      <td>66.0</td>\n",
       "    </tr>\n",
       "    <tr>\n",
       "      <th>1</th>\n",
       "      <td>3034852</td>\n",
       "      <td>RENAULT</td>\n",
       "      <td>M1</td>\n",
       "      <td>M1</td>\n",
       "      <td>Diesel</td>\n",
       "      <td>M</td>\n",
       "      <td>1253.0</td>\n",
       "      <td>95.0</td>\n",
       "      <td>2606.0</td>\n",
       "      <td>1531.0</td>\n",
       "      <td>1531.0</td>\n",
       "      <td>1461.0</td>\n",
       "      <td>66.0</td>\n",
       "    </tr>\n",
       "    <tr>\n",
       "      <th>2</th>\n",
       "      <td>3034859</td>\n",
       "      <td>RENAULT</td>\n",
       "      <td>M1</td>\n",
       "      <td>M1</td>\n",
       "      <td>Diesel</td>\n",
       "      <td>M</td>\n",
       "      <td>1253.0</td>\n",
       "      <td>95.0</td>\n",
       "      <td>2606.0</td>\n",
       "      <td>1531.0</td>\n",
       "      <td>1531.0</td>\n",
       "      <td>1461.0</td>\n",
       "      <td>66.0</td>\n",
       "    </tr>\n",
       "    <tr>\n",
       "      <th>3</th>\n",
       "      <td>3034866</td>\n",
       "      <td>RENAULT</td>\n",
       "      <td>M1</td>\n",
       "      <td>M1</td>\n",
       "      <td>Diesel</td>\n",
       "      <td>M</td>\n",
       "      <td>1253.0</td>\n",
       "      <td>95.0</td>\n",
       "      <td>2606.0</td>\n",
       "      <td>1531.0</td>\n",
       "      <td>1531.0</td>\n",
       "      <td>1461.0</td>\n",
       "      <td>66.0</td>\n",
       "    </tr>\n",
       "    <tr>\n",
       "      <th>4</th>\n",
       "      <td>3034873</td>\n",
       "      <td>RENAULT</td>\n",
       "      <td>M1</td>\n",
       "      <td>M1</td>\n",
       "      <td>Diesel</td>\n",
       "      <td>M</td>\n",
       "      <td>1253.0</td>\n",
       "      <td>95.0</td>\n",
       "      <td>2606.0</td>\n",
       "      <td>1531.0</td>\n",
       "      <td>1531.0</td>\n",
       "      <td>1461.0</td>\n",
       "      <td>66.0</td>\n",
       "    </tr>\n",
       "  </tbody>\n",
       "</table>\n",
       "</div>"
      ],
      "text/plain": [
       "        ID       Mk Category Type Approved Category Registered      Ft Fm  \\\n",
       "0  3034815  RENAULT                     M1                  M1  Diesel  M   \n",
       "1  3034852  RENAULT                     M1                  M1  Diesel  M   \n",
       "2  3034859  RENAULT                     M1                  M1  Diesel  M   \n",
       "3  3034866  RENAULT                     M1                  M1  Diesel  M   \n",
       "4  3034873  RENAULT                     M1                  M1  Diesel  M   \n",
       "\n",
       "   Mass (kg)  CO2 (g/km)  W (mm)  Steering Axle (mm)  Other Axle (mm)  \\\n",
       "0     1253.0        95.0  2606.0              1531.0           1531.0   \n",
       "1     1253.0        95.0  2606.0              1531.0           1531.0   \n",
       "2     1253.0        95.0  2606.0              1531.0           1531.0   \n",
       "3     1253.0        95.0  2606.0              1531.0           1531.0   \n",
       "4     1253.0        95.0  2606.0              1531.0           1531.0   \n",
       "\n",
       "   Engine Capacity (cm3)  Engine Power (KW)  \n",
       "0                 1461.0               66.0  \n",
       "1                 1461.0               66.0  \n",
       "2                 1461.0               66.0  \n",
       "3                 1461.0               66.0  \n",
       "4                 1461.0               66.0  "
      ]
     },
     "execution_count": 84,
     "metadata": {},
     "output_type": "execute_result"
    }
   ],
   "source": [
    "ml_df['Ft'] = ml_df['Ft'].str.capitalize()\n",
    "ml_df.head()"
   ]
  },
  {
   "cell_type": "code",
   "execution_count": 85,
   "metadata": {},
   "outputs": [
    {
     "data": {
      "text/html": [
       "<div>\n",
       "<style scoped>\n",
       "    .dataframe tbody tr th:only-of-type {\n",
       "        vertical-align: middle;\n",
       "    }\n",
       "\n",
       "    .dataframe tbody tr th {\n",
       "        vertical-align: top;\n",
       "    }\n",
       "\n",
       "    .dataframe thead th {\n",
       "        text-align: right;\n",
       "    }\n",
       "</style>\n",
       "<table border=\"1\" class=\"dataframe\">\n",
       "  <thead>\n",
       "    <tr style=\"text-align: right;\">\n",
       "      <th></th>\n",
       "      <th>ID</th>\n",
       "      <th>Mk</th>\n",
       "      <th>Category Type Approved</th>\n",
       "      <th>Category Registered</th>\n",
       "      <th>Ft</th>\n",
       "      <th>Fm</th>\n",
       "      <th>Mass (kg)</th>\n",
       "      <th>CO2 (g/km)</th>\n",
       "      <th>W (mm)</th>\n",
       "      <th>Steering Axle (mm)</th>\n",
       "      <th>Other Axle (mm)</th>\n",
       "      <th>Engine Capacity (cm3)</th>\n",
       "      <th>Engine Power (KW)</th>\n",
       "    </tr>\n",
       "  </thead>\n",
       "  <tbody>\n",
       "    <tr>\n",
       "      <th>0</th>\n",
       "      <td>3034815</td>\n",
       "      <td>Renault</td>\n",
       "      <td>M1</td>\n",
       "      <td>M1</td>\n",
       "      <td>Diesel</td>\n",
       "      <td>M</td>\n",
       "      <td>1253.0</td>\n",
       "      <td>95.0</td>\n",
       "      <td>2606.0</td>\n",
       "      <td>1531.0</td>\n",
       "      <td>1531.0</td>\n",
       "      <td>1461.0</td>\n",
       "      <td>66.0</td>\n",
       "    </tr>\n",
       "    <tr>\n",
       "      <th>1</th>\n",
       "      <td>3034852</td>\n",
       "      <td>Renault</td>\n",
       "      <td>M1</td>\n",
       "      <td>M1</td>\n",
       "      <td>Diesel</td>\n",
       "      <td>M</td>\n",
       "      <td>1253.0</td>\n",
       "      <td>95.0</td>\n",
       "      <td>2606.0</td>\n",
       "      <td>1531.0</td>\n",
       "      <td>1531.0</td>\n",
       "      <td>1461.0</td>\n",
       "      <td>66.0</td>\n",
       "    </tr>\n",
       "    <tr>\n",
       "      <th>2</th>\n",
       "      <td>3034859</td>\n",
       "      <td>Renault</td>\n",
       "      <td>M1</td>\n",
       "      <td>M1</td>\n",
       "      <td>Diesel</td>\n",
       "      <td>M</td>\n",
       "      <td>1253.0</td>\n",
       "      <td>95.0</td>\n",
       "      <td>2606.0</td>\n",
       "      <td>1531.0</td>\n",
       "      <td>1531.0</td>\n",
       "      <td>1461.0</td>\n",
       "      <td>66.0</td>\n",
       "    </tr>\n",
       "    <tr>\n",
       "      <th>3</th>\n",
       "      <td>3034866</td>\n",
       "      <td>Renault</td>\n",
       "      <td>M1</td>\n",
       "      <td>M1</td>\n",
       "      <td>Diesel</td>\n",
       "      <td>M</td>\n",
       "      <td>1253.0</td>\n",
       "      <td>95.0</td>\n",
       "      <td>2606.0</td>\n",
       "      <td>1531.0</td>\n",
       "      <td>1531.0</td>\n",
       "      <td>1461.0</td>\n",
       "      <td>66.0</td>\n",
       "    </tr>\n",
       "    <tr>\n",
       "      <th>4</th>\n",
       "      <td>3034873</td>\n",
       "      <td>Renault</td>\n",
       "      <td>M1</td>\n",
       "      <td>M1</td>\n",
       "      <td>Diesel</td>\n",
       "      <td>M</td>\n",
       "      <td>1253.0</td>\n",
       "      <td>95.0</td>\n",
       "      <td>2606.0</td>\n",
       "      <td>1531.0</td>\n",
       "      <td>1531.0</td>\n",
       "      <td>1461.0</td>\n",
       "      <td>66.0</td>\n",
       "    </tr>\n",
       "  </tbody>\n",
       "</table>\n",
       "</div>"
      ],
      "text/plain": [
       "        ID       Mk Category Type Approved Category Registered      Ft Fm  \\\n",
       "0  3034815  Renault                     M1                  M1  Diesel  M   \n",
       "1  3034852  Renault                     M1                  M1  Diesel  M   \n",
       "2  3034859  Renault                     M1                  M1  Diesel  M   \n",
       "3  3034866  Renault                     M1                  M1  Diesel  M   \n",
       "4  3034873  Renault                     M1                  M1  Diesel  M   \n",
       "\n",
       "   Mass (kg)  CO2 (g/km)  W (mm)  Steering Axle (mm)  Other Axle (mm)  \\\n",
       "0     1253.0        95.0  2606.0              1531.0           1531.0   \n",
       "1     1253.0        95.0  2606.0              1531.0           1531.0   \n",
       "2     1253.0        95.0  2606.0              1531.0           1531.0   \n",
       "3     1253.0        95.0  2606.0              1531.0           1531.0   \n",
       "4     1253.0        95.0  2606.0              1531.0           1531.0   \n",
       "\n",
       "   Engine Capacity (cm3)  Engine Power (KW)  \n",
       "0                 1461.0               66.0  \n",
       "1                 1461.0               66.0  \n",
       "2                 1461.0               66.0  \n",
       "3                 1461.0               66.0  \n",
       "4                 1461.0               66.0  "
      ]
     },
     "execution_count": 85,
     "metadata": {},
     "output_type": "execute_result"
    }
   ],
   "source": [
    "ml_df['Mk'] = ml_df['Mk'].str.capitalize()\n",
    "ml_df.head()"
   ]
  },
  {
   "cell_type": "code",
   "execution_count": 91,
   "metadata": {},
   "outputs": [],
   "source": [
    "def Encoder(df):\n",
    "          columnsToEncode = list(df.select_dtypes(include=['object']))\n",
    "          le = LabelEncoder()\n",
    "          for feature in columnsToEncode:\n",
    "              try:\n",
    "                  df[feature] = le.fit_transform(df[feature])\n",
    "              except:\n",
    "                  print('Error encoding '+feature)\n",
    "          return df"
   ]
  },
  {
   "cell_type": "code",
   "execution_count": 100,
   "metadata": {},
   "outputs": [
    {
     "data": {
      "text/html": [
       "<div>\n",
       "<style scoped>\n",
       "    .dataframe tbody tr th:only-of-type {\n",
       "        vertical-align: middle;\n",
       "    }\n",
       "\n",
       "    .dataframe tbody tr th {\n",
       "        vertical-align: top;\n",
       "    }\n",
       "\n",
       "    .dataframe thead th {\n",
       "        text-align: right;\n",
       "    }\n",
       "</style>\n",
       "<table border=\"1\" class=\"dataframe\">\n",
       "  <thead>\n",
       "    <tr style=\"text-align: right;\">\n",
       "      <th></th>\n",
       "      <th>ID</th>\n",
       "      <th>Mk</th>\n",
       "      <th>Category Type Approved</th>\n",
       "      <th>Category Registered</th>\n",
       "      <th>Ft</th>\n",
       "      <th>Fm</th>\n",
       "      <th>Mass (kg)</th>\n",
       "      <th>CO2 (g/km)</th>\n",
       "      <th>W (mm)</th>\n",
       "      <th>Steering Axle (mm)</th>\n",
       "      <th>Other Axle (mm)</th>\n",
       "      <th>Engine Capacity (cm3)</th>\n",
       "      <th>Engine Power (KW)</th>\n",
       "    </tr>\n",
       "  </thead>\n",
       "  <tbody>\n",
       "    <tr>\n",
       "      <th>0</th>\n",
       "      <td>3034815</td>\n",
       "      <td>12</td>\n",
       "      <td>0</td>\n",
       "      <td>0</td>\n",
       "      <td>0</td>\n",
       "      <td>2</td>\n",
       "      <td>1253.0</td>\n",
       "      <td>95.0</td>\n",
       "      <td>2606.0</td>\n",
       "      <td>1531.0</td>\n",
       "      <td>1531.0</td>\n",
       "      <td>1461.0</td>\n",
       "      <td>66.0</td>\n",
       "    </tr>\n",
       "    <tr>\n",
       "      <th>1</th>\n",
       "      <td>3034852</td>\n",
       "      <td>12</td>\n",
       "      <td>0</td>\n",
       "      <td>0</td>\n",
       "      <td>0</td>\n",
       "      <td>2</td>\n",
       "      <td>1253.0</td>\n",
       "      <td>95.0</td>\n",
       "      <td>2606.0</td>\n",
       "      <td>1531.0</td>\n",
       "      <td>1531.0</td>\n",
       "      <td>1461.0</td>\n",
       "      <td>66.0</td>\n",
       "    </tr>\n",
       "    <tr>\n",
       "      <th>2</th>\n",
       "      <td>3034859</td>\n",
       "      <td>12</td>\n",
       "      <td>0</td>\n",
       "      <td>0</td>\n",
       "      <td>0</td>\n",
       "      <td>2</td>\n",
       "      <td>1253.0</td>\n",
       "      <td>95.0</td>\n",
       "      <td>2606.0</td>\n",
       "      <td>1531.0</td>\n",
       "      <td>1531.0</td>\n",
       "      <td>1461.0</td>\n",
       "      <td>66.0</td>\n",
       "    </tr>\n",
       "    <tr>\n",
       "      <th>3</th>\n",
       "      <td>3034866</td>\n",
       "      <td>12</td>\n",
       "      <td>0</td>\n",
       "      <td>0</td>\n",
       "      <td>0</td>\n",
       "      <td>2</td>\n",
       "      <td>1253.0</td>\n",
       "      <td>95.0</td>\n",
       "      <td>2606.0</td>\n",
       "      <td>1531.0</td>\n",
       "      <td>1531.0</td>\n",
       "      <td>1461.0</td>\n",
       "      <td>66.0</td>\n",
       "    </tr>\n",
       "    <tr>\n",
       "      <th>4</th>\n",
       "      <td>3034873</td>\n",
       "      <td>12</td>\n",
       "      <td>0</td>\n",
       "      <td>0</td>\n",
       "      <td>0</td>\n",
       "      <td>2</td>\n",
       "      <td>1253.0</td>\n",
       "      <td>95.0</td>\n",
       "      <td>2606.0</td>\n",
       "      <td>1531.0</td>\n",
       "      <td>1531.0</td>\n",
       "      <td>1461.0</td>\n",
       "      <td>66.0</td>\n",
       "    </tr>\n",
       "    <tr>\n",
       "      <th>...</th>\n",
       "      <td>...</td>\n",
       "      <td>...</td>\n",
       "      <td>...</td>\n",
       "      <td>...</td>\n",
       "      <td>...</td>\n",
       "      <td>...</td>\n",
       "      <td>...</td>\n",
       "      <td>...</td>\n",
       "      <td>...</td>\n",
       "      <td>...</td>\n",
       "      <td>...</td>\n",
       "      <td>...</td>\n",
       "      <td>...</td>\n",
       "    </tr>\n",
       "    <tr>\n",
       "      <th>12571</th>\n",
       "      <td>1023639</td>\n",
       "      <td>6</td>\n",
       "      <td>0</td>\n",
       "      <td>0</td>\n",
       "      <td>5</td>\n",
       "      <td>2</td>\n",
       "      <td>1144.0</td>\n",
       "      <td>119.0</td>\n",
       "      <td>2570.0</td>\n",
       "      <td>1514.0</td>\n",
       "      <td>1513.0</td>\n",
       "      <td>1248.0</td>\n",
       "      <td>62.0</td>\n",
       "    </tr>\n",
       "    <tr>\n",
       "      <th>12572</th>\n",
       "      <td>1023647</td>\n",
       "      <td>6</td>\n",
       "      <td>0</td>\n",
       "      <td>0</td>\n",
       "      <td>5</td>\n",
       "      <td>2</td>\n",
       "      <td>1144.0</td>\n",
       "      <td>119.0</td>\n",
       "      <td>2570.0</td>\n",
       "      <td>1514.0</td>\n",
       "      <td>1513.0</td>\n",
       "      <td>1248.0</td>\n",
       "      <td>62.0</td>\n",
       "    </tr>\n",
       "    <tr>\n",
       "      <th>12573</th>\n",
       "      <td>1023653</td>\n",
       "      <td>6</td>\n",
       "      <td>0</td>\n",
       "      <td>0</td>\n",
       "      <td>5</td>\n",
       "      <td>2</td>\n",
       "      <td>1144.0</td>\n",
       "      <td>119.0</td>\n",
       "      <td>2570.0</td>\n",
       "      <td>1514.0</td>\n",
       "      <td>1513.0</td>\n",
       "      <td>1248.0</td>\n",
       "      <td>62.0</td>\n",
       "    </tr>\n",
       "    <tr>\n",
       "      <th>12574</th>\n",
       "      <td>1023659</td>\n",
       "      <td>6</td>\n",
       "      <td>0</td>\n",
       "      <td>0</td>\n",
       "      <td>5</td>\n",
       "      <td>2</td>\n",
       "      <td>1144.0</td>\n",
       "      <td>119.0</td>\n",
       "      <td>2570.0</td>\n",
       "      <td>1514.0</td>\n",
       "      <td>1513.0</td>\n",
       "      <td>1248.0</td>\n",
       "      <td>62.0</td>\n",
       "    </tr>\n",
       "    <tr>\n",
       "      <th>12575</th>\n",
       "      <td>1023670</td>\n",
       "      <td>6</td>\n",
       "      <td>0</td>\n",
       "      <td>0</td>\n",
       "      <td>5</td>\n",
       "      <td>2</td>\n",
       "      <td>1144.0</td>\n",
       "      <td>119.0</td>\n",
       "      <td>2570.0</td>\n",
       "      <td>1514.0</td>\n",
       "      <td>1513.0</td>\n",
       "      <td>1248.0</td>\n",
       "      <td>62.0</td>\n",
       "    </tr>\n",
       "  </tbody>\n",
       "</table>\n",
       "<p>12576 rows × 13 columns</p>\n",
       "</div>"
      ],
      "text/plain": [
       "            ID  Mk  Category Type Approved  Category Registered  Ft  Fm  \\\n",
       "0      3034815  12                       0                    0   0   2   \n",
       "1      3034852  12                       0                    0   0   2   \n",
       "2      3034859  12                       0                    0   0   2   \n",
       "3      3034866  12                       0                    0   0   2   \n",
       "4      3034873  12                       0                    0   0   2   \n",
       "...        ...  ..                     ...                  ...  ..  ..   \n",
       "12571  1023639   6                       0                    0   5   2   \n",
       "12572  1023647   6                       0                    0   5   2   \n",
       "12573  1023653   6                       0                    0   5   2   \n",
       "12574  1023659   6                       0                    0   5   2   \n",
       "12575  1023670   6                       0                    0   5   2   \n",
       "\n",
       "       Mass (kg)  CO2 (g/km)  W (mm)  Steering Axle (mm)  Other Axle (mm)  \\\n",
       "0         1253.0        95.0  2606.0              1531.0           1531.0   \n",
       "1         1253.0        95.0  2606.0              1531.0           1531.0   \n",
       "2         1253.0        95.0  2606.0              1531.0           1531.0   \n",
       "3         1253.0        95.0  2606.0              1531.0           1531.0   \n",
       "4         1253.0        95.0  2606.0              1531.0           1531.0   \n",
       "...          ...         ...     ...                 ...              ...   \n",
       "12571     1144.0       119.0  2570.0              1514.0           1513.0   \n",
       "12572     1144.0       119.0  2570.0              1514.0           1513.0   \n",
       "12573     1144.0       119.0  2570.0              1514.0           1513.0   \n",
       "12574     1144.0       119.0  2570.0              1514.0           1513.0   \n",
       "12575     1144.0       119.0  2570.0              1514.0           1513.0   \n",
       "\n",
       "       Engine Capacity (cm3)  Engine Power (KW)  \n",
       "0                     1461.0               66.0  \n",
       "1                     1461.0               66.0  \n",
       "2                     1461.0               66.0  \n",
       "3                     1461.0               66.0  \n",
       "4                     1461.0               66.0  \n",
       "...                      ...                ...  \n",
       "12571                 1248.0               62.0  \n",
       "12572                 1248.0               62.0  \n",
       "12573                 1248.0               62.0  \n",
       "12574                 1248.0               62.0  \n",
       "12575                 1248.0               62.0  \n",
       "\n",
       "[12576 rows x 13 columns]"
      ]
     },
     "execution_count": 100,
     "metadata": {},
     "output_type": "execute_result"
    }
   ],
   "source": [
    "ml_transform = Encoder(ml_df)\n",
    "ml_transform"
   ]
  },
  {
   "cell_type": "code",
   "execution_count": 101,
   "metadata": {},
   "outputs": [
    {
     "data": {
      "text/html": [
       "<div>\n",
       "<style scoped>\n",
       "    .dataframe tbody tr th:only-of-type {\n",
       "        vertical-align: middle;\n",
       "    }\n",
       "\n",
       "    .dataframe tbody tr th {\n",
       "        vertical-align: top;\n",
       "    }\n",
       "\n",
       "    .dataframe thead th {\n",
       "        text-align: right;\n",
       "    }\n",
       "</style>\n",
       "<table border=\"1\" class=\"dataframe\">\n",
       "  <thead>\n",
       "    <tr style=\"text-align: right;\">\n",
       "      <th></th>\n",
       "      <th>ID</th>\n",
       "      <th>Mk</th>\n",
       "      <th>Category Type Approved</th>\n",
       "      <th>Category Registered</th>\n",
       "      <th>Ft</th>\n",
       "      <th>Fm</th>\n",
       "      <th>Mass (kg)</th>\n",
       "      <th>CO2 (g/km)</th>\n",
       "      <th>W (mm)</th>\n",
       "      <th>Steering Axle (mm)</th>\n",
       "      <th>Other Axle (mm)</th>\n",
       "      <th>Engine Capacity (cm3)</th>\n",
       "      <th>Engine Power (KW)</th>\n",
       "    </tr>\n",
       "  </thead>\n",
       "  <tbody>\n",
       "    <tr>\n",
       "      <th>count</th>\n",
       "      <td>1.257600e+04</td>\n",
       "      <td>12576.000000</td>\n",
       "      <td>12576.000000</td>\n",
       "      <td>12576.000000</td>\n",
       "      <td>12576.000000</td>\n",
       "      <td>12576.000000</td>\n",
       "      <td>12576.000000</td>\n",
       "      <td>12576.000000</td>\n",
       "      <td>12576.000000</td>\n",
       "      <td>12576.000000</td>\n",
       "      <td>12576.000000</td>\n",
       "      <td>12576.000000</td>\n",
       "      <td>12576.000000</td>\n",
       "    </tr>\n",
       "    <tr>\n",
       "      <th>mean</th>\n",
       "      <td>3.079411e+06</td>\n",
       "      <td>8.665633</td>\n",
       "      <td>0.078483</td>\n",
       "      <td>0.073712</td>\n",
       "      <td>2.369990</td>\n",
       "      <td>1.994672</td>\n",
       "      <td>1367.683127</td>\n",
       "      <td>116.013836</td>\n",
       "      <td>2654.146072</td>\n",
       "      <td>1536.526559</td>\n",
       "      <td>1536.357824</td>\n",
       "      <td>1511.293814</td>\n",
       "      <td>89.743718</td>\n",
       "    </tr>\n",
       "    <tr>\n",
       "      <th>std</th>\n",
       "      <td>1.408227e+06</td>\n",
       "      <td>4.979984</td>\n",
       "      <td>0.374488</td>\n",
       "      <td>0.362526</td>\n",
       "      <td>2.498436</td>\n",
       "      <td>0.102704</td>\n",
       "      <td>270.733536</td>\n",
       "      <td>21.904368</td>\n",
       "      <td>172.446753</td>\n",
       "      <td>59.525828</td>\n",
       "      <td>62.175927</td>\n",
       "      <td>481.686665</td>\n",
       "      <td>39.584274</td>\n",
       "    </tr>\n",
       "    <tr>\n",
       "      <th>min</th>\n",
       "      <td>1.007900e+04</td>\n",
       "      <td>0.000000</td>\n",
       "      <td>0.000000</td>\n",
       "      <td>0.000000</td>\n",
       "      <td>0.000000</td>\n",
       "      <td>0.000000</td>\n",
       "      <td>926.000000</td>\n",
       "      <td>29.000000</td>\n",
       "      <td>2385.000000</td>\n",
       "      <td>1409.000000</td>\n",
       "      <td>1408.000000</td>\n",
       "      <td>898.000000</td>\n",
       "      <td>44.000000</td>\n",
       "    </tr>\n",
       "    <tr>\n",
       "      <th>25%</th>\n",
       "      <td>2.450101e+06</td>\n",
       "      <td>3.000000</td>\n",
       "      <td>0.000000</td>\n",
       "      <td>0.000000</td>\n",
       "      <td>0.000000</td>\n",
       "      <td>2.000000</td>\n",
       "      <td>1165.000000</td>\n",
       "      <td>99.000000</td>\n",
       "      <td>2589.000000</td>\n",
       "      <td>1497.000000</td>\n",
       "      <td>1492.000000</td>\n",
       "      <td>1197.000000</td>\n",
       "      <td>66.000000</td>\n",
       "    </tr>\n",
       "    <tr>\n",
       "      <th>50%</th>\n",
       "      <td>3.130776e+06</td>\n",
       "      <td>11.000000</td>\n",
       "      <td>0.000000</td>\n",
       "      <td>0.000000</td>\n",
       "      <td>0.000000</td>\n",
       "      <td>2.000000</td>\n",
       "      <td>1343.000000</td>\n",
       "      <td>112.000000</td>\n",
       "      <td>2638.000000</td>\n",
       "      <td>1537.000000</td>\n",
       "      <td>1537.000000</td>\n",
       "      <td>1461.000000</td>\n",
       "      <td>81.000000</td>\n",
       "    </tr>\n",
       "    <tr>\n",
       "      <th>75%</th>\n",
       "      <td>4.415374e+06</td>\n",
       "      <td>12.000000</td>\n",
       "      <td>0.000000</td>\n",
       "      <td>0.000000</td>\n",
       "      <td>5.000000</td>\n",
       "      <td>2.000000</td>\n",
       "      <td>1500.000000</td>\n",
       "      <td>126.000000</td>\n",
       "      <td>2699.000000</td>\n",
       "      <td>1580.000000</td>\n",
       "      <td>1583.000000</td>\n",
       "      <td>1598.000000</td>\n",
       "      <td>97.000000</td>\n",
       "    </tr>\n",
       "    <tr>\n",
       "      <th>max</th>\n",
       "      <td>4.895639e+06</td>\n",
       "      <td>17.000000</td>\n",
       "      <td>2.000000</td>\n",
       "      <td>2.000000</td>\n",
       "      <td>7.000000</td>\n",
       "      <td>2.000000</td>\n",
       "      <td>2566.000000</td>\n",
       "      <td>294.000000</td>\n",
       "      <td>3498.000000</td>\n",
       "      <td>1670.000000</td>\n",
       "      <td>1670.000000</td>\n",
       "      <td>6592.000000</td>\n",
       "      <td>448.000000</td>\n",
       "    </tr>\n",
       "  </tbody>\n",
       "</table>\n",
       "</div>"
      ],
      "text/plain": [
       "                 ID            Mk  Category Type Approved  \\\n",
       "count  1.257600e+04  12576.000000            12576.000000   \n",
       "mean   3.079411e+06      8.665633                0.078483   \n",
       "std    1.408227e+06      4.979984                0.374488   \n",
       "min    1.007900e+04      0.000000                0.000000   \n",
       "25%    2.450101e+06      3.000000                0.000000   \n",
       "50%    3.130776e+06     11.000000                0.000000   \n",
       "75%    4.415374e+06     12.000000                0.000000   \n",
       "max    4.895639e+06     17.000000                2.000000   \n",
       "\n",
       "       Category Registered            Ft            Fm     Mass (kg)  \\\n",
       "count         12576.000000  12576.000000  12576.000000  12576.000000   \n",
       "mean              0.073712      2.369990      1.994672   1367.683127   \n",
       "std               0.362526      2.498436      0.102704    270.733536   \n",
       "min               0.000000      0.000000      0.000000    926.000000   \n",
       "25%               0.000000      0.000000      2.000000   1165.000000   \n",
       "50%               0.000000      0.000000      2.000000   1343.000000   \n",
       "75%               0.000000      5.000000      2.000000   1500.000000   \n",
       "max               2.000000      7.000000      2.000000   2566.000000   \n",
       "\n",
       "         CO2 (g/km)        W (mm)  Steering Axle (mm)  Other Axle (mm)  \\\n",
       "count  12576.000000  12576.000000        12576.000000     12576.000000   \n",
       "mean     116.013836   2654.146072         1536.526559      1536.357824   \n",
       "std       21.904368    172.446753           59.525828        62.175927   \n",
       "min       29.000000   2385.000000         1409.000000      1408.000000   \n",
       "25%       99.000000   2589.000000         1497.000000      1492.000000   \n",
       "50%      112.000000   2638.000000         1537.000000      1537.000000   \n",
       "75%      126.000000   2699.000000         1580.000000      1583.000000   \n",
       "max      294.000000   3498.000000         1670.000000      1670.000000   \n",
       "\n",
       "       Engine Capacity (cm3)  Engine Power (KW)  \n",
       "count           12576.000000       12576.000000  \n",
       "mean             1511.293814          89.743718  \n",
       "std               481.686665          39.584274  \n",
       "min               898.000000          44.000000  \n",
       "25%              1197.000000          66.000000  \n",
       "50%              1461.000000          81.000000  \n",
       "75%              1598.000000          97.000000  \n",
       "max              6592.000000         448.000000  "
      ]
     },
     "execution_count": 101,
     "metadata": {},
     "output_type": "execute_result"
    }
   ],
   "source": [
    "ml_transform.describe()"
   ]
  },
  {
   "cell_type": "code",
   "execution_count": 102,
   "metadata": {},
   "outputs": [
    {
     "data": {
      "text/plain": [
       "ID                          int64\n",
       "Mk                          int64\n",
       "Category Type Approved      int64\n",
       "Category Registered         int64\n",
       "Ft                          int64\n",
       "Fm                          int64\n",
       "Mass (kg)                 float64\n",
       "CO2 (g/km)                float64\n",
       "W (mm)                    float64\n",
       "Steering Axle (mm)        float64\n",
       "Other Axle (mm)           float64\n",
       "Engine Capacity (cm3)     float64\n",
       "Engine Power (KW)         float64\n",
       "dtype: object"
      ]
     },
     "execution_count": 102,
     "metadata": {},
     "output_type": "execute_result"
    }
   ],
   "source": [
    "ml_transform.dtypes"
   ]
  },
  {
   "cell_type": "code",
   "execution_count": 103,
   "metadata": {},
   "outputs": [
    {
     "data": {
      "text/plain": [
       "<bound method DataFrame.info of             ID  Mk  Category Type Approved  Category Registered  Ft  Fm  \\\n",
       "0      3034815  12                       0                    0   0   2   \n",
       "1      3034852  12                       0                    0   0   2   \n",
       "2      3034859  12                       0                    0   0   2   \n",
       "3      3034866  12                       0                    0   0   2   \n",
       "4      3034873  12                       0                    0   0   2   \n",
       "...        ...  ..                     ...                  ...  ..  ..   \n",
       "12571  1023639   6                       0                    0   5   2   \n",
       "12572  1023647   6                       0                    0   5   2   \n",
       "12573  1023653   6                       0                    0   5   2   \n",
       "12574  1023659   6                       0                    0   5   2   \n",
       "12575  1023670   6                       0                    0   5   2   \n",
       "\n",
       "       Mass (kg)  CO2 (g/km)  W (mm)  Steering Axle (mm)  Other Axle (mm)  \\\n",
       "0         1253.0        95.0  2606.0              1531.0           1531.0   \n",
       "1         1253.0        95.0  2606.0              1531.0           1531.0   \n",
       "2         1253.0        95.0  2606.0              1531.0           1531.0   \n",
       "3         1253.0        95.0  2606.0              1531.0           1531.0   \n",
       "4         1253.0        95.0  2606.0              1531.0           1531.0   \n",
       "...          ...         ...     ...                 ...              ...   \n",
       "12571     1144.0       119.0  2570.0              1514.0           1513.0   \n",
       "12572     1144.0       119.0  2570.0              1514.0           1513.0   \n",
       "12573     1144.0       119.0  2570.0              1514.0           1513.0   \n",
       "12574     1144.0       119.0  2570.0              1514.0           1513.0   \n",
       "12575     1144.0       119.0  2570.0              1514.0           1513.0   \n",
       "\n",
       "       Engine Capacity (cm3)  Engine Power (KW)  \n",
       "0                     1461.0               66.0  \n",
       "1                     1461.0               66.0  \n",
       "2                     1461.0               66.0  \n",
       "3                     1461.0               66.0  \n",
       "4                     1461.0               66.0  \n",
       "...                      ...                ...  \n",
       "12571                 1248.0               62.0  \n",
       "12572                 1248.0               62.0  \n",
       "12573                 1248.0               62.0  \n",
       "12574                 1248.0               62.0  \n",
       "12575                 1248.0               62.0  \n",
       "\n",
       "[12576 rows x 13 columns]>"
      ]
     },
     "execution_count": 103,
     "metadata": {},
     "output_type": "execute_result"
    }
   ],
   "source": [
    "ml_transform.info"
   ]
  },
  {
   "cell_type": "code",
   "execution_count": 104,
   "metadata": {},
   "outputs": [
    {
     "data": {
      "text/plain": [
       "Index(['ID', 'Mk', 'Category Type Approved', 'Category Registered', 'Ft', 'Fm',\n",
       "       'Mass (kg)', 'CO2 (g/km)', 'W (mm)', 'Steering Axle (mm)',\n",
       "       'Other Axle (mm)', 'Engine Capacity (cm3)', 'Engine Power (KW)'],\n",
       "      dtype='object')"
      ]
     },
     "execution_count": 104,
     "metadata": {},
     "output_type": "execute_result"
    }
   ],
   "source": [
    "ml_transform.columns"
   ]
  },
  {
   "cell_type": "markdown",
   "metadata": {},
   "source": [
    "# Sns-Plot of Independent and Dependant variables"
   ]
  },
  {
   "cell_type": "code",
   "execution_count": 108,
   "metadata": {},
   "outputs": [
    {
     "name": "stderr",
     "output_type": "stream",
     "text": [
      "/Users/abdulhakiim/opt/anaconda3/envs/PythonData/lib/python3.9/site-packages/seaborn/_decorators.py:36: FutureWarning: Pass the following variables as keyword args: x, y. From version 0.12, the only valid positional argument will be `data`, and passing other arguments without an explicit keyword will result in an error or misinterpretation.\n",
      "  warnings.warn(\n"
     ]
    },
    {
     "data": {
      "text/plain": [
       "<seaborn.axisgrid.JointGrid at 0x7fadde850760>"
      ]
     },
     "execution_count": 108,
     "metadata": {},
     "output_type": "execute_result"
    },
    {
     "data": {
      "image/png": "[encoded data removed]",
      "text/plain": [
       "<Figure size 432x432 with 3 Axes>"
      ]
     },
     "metadata": {
      "needs_background": "light"
     },
     "output_type": "display_data"
    }
   ],
   "source": [
    "sns.jointplot(ml_transform['Mass (kg)' ],ml_transform['CO2 (g/km)'])"
   ]
  },
  {
   "cell_type": "code",
   "execution_count": 109,
   "metadata": {},
   "outputs": [
    {
     "name": "stderr",
     "output_type": "stream",
     "text": [
      "/Users/abdulhakiim/opt/anaconda3/envs/PythonData/lib/python3.9/site-packages/seaborn/_decorators.py:36: FutureWarning: Pass the following variables as keyword args: x, y. From version 0.12, the only valid positional argument will be `data`, and passing other arguments without an explicit keyword will result in an error or misinterpretation.\n",
      "  warnings.warn(\n"
     ]
    },
    {
     "data": {
      "text/plain": [
       "<seaborn.axisgrid.JointGrid at 0x7fade3e4ce50>"
      ]
     },
     "execution_count": 109,
     "metadata": {},
     "output_type": "execute_result"
    },
    {
     "data": {
      "image/png": "[encoded data removed]",
      "text/plain": [
       "<Figure size 432x432 with 3 Axes>"
      ]
     },
     "metadata": {
      "needs_background": "light"
     },
     "output_type": "display_data"
    }
   ],
   "source": [
    "sns.jointplot(ml_transform['Engine Power (KW)' ],ml_transform['CO2 (g/km)'])"
   ]
  },
  {
   "cell_type": "code",
   "execution_count": 115,
   "metadata": {},
   "outputs": [
    {
     "data": {
      "text/plain": [
       "<seaborn.axisgrid.PairGrid at 0x7fadd2e47cd0>"
      ]
     },
     "execution_count": 115,
     "metadata": {},
     "output_type": "execute_result"
    },
    {
     "data": {
      "image/png": "[encoded data removed]",
      "text/plain": [
       "<Figure size 1980x180 with 11 Axes>"
      ]
     },
     "metadata": {
      "needs_background": "light"
     },
     "output_type": "display_data"
    }
   ],
   "source": [
    "sns.pairplot(\n",
    "    ml_transform,\n",
    "    x_vars=['Mass (kg)','W (mm)','Steering Axle (mm)','Other Axle (mm)', 'Ft', 'Fm', 'Engine Capacity (cm3)','Engine Power (KW)','Mk', 'Category Type Approved', 'Category Registered'],\n",
    "    y_vars=['CO2 (g/km)'],\n",
    ")"
   ]
  },
  {
   "cell_type": "code",
   "execution_count": 114,
   "metadata": {},
   "outputs": [
    {
     "data": {
      "text/plain": [
       "<seaborn.axisgrid.FacetGrid at 0x7fade39c4580>"
      ]
     },
     "execution_count": 114,
     "metadata": {},
     "output_type": "execute_result"
    },
    {
     "data": {
      "image/png": "[encoded data removed]",
      "text/plain": [
       "<Figure size 360x360 with 1 Axes>"
      ]
     },
     "metadata": {
      "needs_background": "light"
     },
     "output_type": "display_data"
    }
   ],
   "source": [
    "sns.lmplot(x='Mass (kg)',y ='CO2 (g/km)', data=ml_transform)"
   ]
  },
  {
   "cell_type": "markdown",
   "metadata": {},
   "source": [
    "# Training and Testing our Dataset with Linear Regression"
   ]
  },
  {
   "cell_type": "code",
   "execution_count": 235,
   "metadata": {},
   "outputs": [],
   "source": [
    "# Independent and dependent variables\n",
    "X = ml_transform[['Mass (kg)','W (mm)','Steering Axle (mm)','Ft', 'Fm', 'Engine Capacity (cm3)','Engine Power (KW)']]\n",
    "y = ml_transform['CO2 (g/km)']"
   ]
  },
  {
   "cell_type": "code",
   "execution_count": 236,
   "metadata": {},
   "outputs": [],
   "source": [
    "# Splitting into training and testing\n",
    "from sklearn.model_selection import train_test_split\n",
    "X_train,X_test,y_train,y_test=train_test_split(X,y,test_size=0.2)"
   ]
  },
  {
   "cell_type": "code",
   "execution_count": 237,
   "metadata": {},
   "outputs": [
    {
     "data": {
      "text/plain": [
       "LinearRegression()"
      ]
     },
     "execution_count": 237,
     "metadata": {},
     "output_type": "execute_result"
    }
   ],
   "source": [
    "# Training linear regression model on training dataset\n",
    "from sklearn.linear_model import LinearRegression\n",
    "lin=LinearRegression()\n",
    "lin.fit(X_train,y_train)"
   ]
  },
  {
   "cell_type": "code",
   "execution_count": 238,
   "metadata": {},
   "outputs": [
    {
     "name": "stdout",
     "output_type": "stream",
     "text": [
      "Coefficients: \n",
      " [ 2.84029842e-02  1.55144461e-02  4.20673628e-02  6.16900526e+00\n",
      " -2.27586870e+01  2.23627017e-02 -2.61081681e-02]\n"
     ]
    }
   ],
   "source": [
    "# Printing out the Coefficient\n",
    "print('Coefficients: \\n', lin.coef_)"
   ]
  },
  {
   "cell_type": "code",
   "execution_count": 239,
   "metadata": {},
   "outputs": [
    {
     "data": {
      "text/plain": [
       "array([109.01534416, 112.60138572, 105.44495615, ..., 125.81972765,\n",
       "       101.11020119, 126.14205413])"
      ]
     },
     "execution_count": 239,
     "metadata": {},
     "output_type": "execute_result"
    }
   ],
   "source": [
    "# Prediction\n",
    "LR_prediction = lin.predict(X_test)\n",
    "LR_prediction"
   ]
  },
  {
   "cell_type": "code",
   "execution_count": 240,
   "metadata": {},
   "outputs": [
    {
     "data": {
      "text/plain": [
       "Text(0, 0.5, 'Y Prediction')"
      ]
     },
     "execution_count": 240,
     "metadata": {},
     "output_type": "execute_result"
    },
    {
     "data": {
      "image/png": "[encoded data removed]",
      "text/plain": [
       "<Figure size 432x288 with 1 Axes>"
      ]
     },
     "metadata": {
      "needs_background": "light"
     },
     "output_type": "display_data"
    }
   ],
   "source": [
    "plt.scatter(y_test,LR_prediction)\n",
    "plt.xlabel('Y Test')\n",
    "plt.ylabel('Y Prediction')"
   ]
  },
  {
   "cell_type": "code",
   "execution_count": 241,
   "metadata": {},
   "outputs": [
    {
     "name": "stdout",
     "output_type": "stream",
     "text": [
      "Training data score: 0.7317562115246681\n",
      "Testing data score:  0.7331426268517247\n"
     ]
    }
   ],
   "source": [
    "# Print scores\n",
    "print(\"Training data score:\", lin.score(X_train,y_train))\n",
    "print(\"Testing data score: \", lin.score(X_test,y_test))"
   ]
  },
  {
   "cell_type": "code",
   "execution_count": 242,
   "metadata": {},
   "outputs": [
    {
     "name": "stdout",
     "output_type": "stream",
     "text": [
      "Mean-Squared Error: 118.69147261180606\n",
      "Explained Variance Score: 0.7331451230353883\n",
      "r2_Score: 0.7331426268517247\n"
     ]
    }
   ],
   "source": [
    "# Model accuracy\n",
    "from sklearn.metrics import explained_variance_score, mean_squared_error, r2_score, mean_absolute_error\n",
    "print(\"Mean-Squared Error:\",mean_squared_error(y_test,LR_prediction))\n",
    "print(\"Explained Variance Score:\",explained_variance_score(y_test, LR_prediction))\n",
    "print(\"r2_Score:\",r2_score(y_test,LR_prediction))"
   ]
  },
  {
   "cell_type": "code",
   "execution_count": 125,
   "metadata": {},
   "outputs": [
    {
     "data": {
      "text/html": [
       "<div>\n",
       "<style scoped>\n",
       "    .dataframe tbody tr th:only-of-type {\n",
       "        vertical-align: middle;\n",
       "    }\n",
       "\n",
       "    .dataframe tbody tr th {\n",
       "        vertical-align: top;\n",
       "    }\n",
       "\n",
       "    .dataframe thead th {\n",
       "        text-align: right;\n",
       "    }\n",
       "</style>\n",
       "<table border=\"1\" class=\"dataframe\">\n",
       "  <thead>\n",
       "    <tr style=\"text-align: right;\">\n",
       "      <th></th>\n",
       "      <th>Coeffecient</th>\n",
       "    </tr>\n",
       "  </thead>\n",
       "  <tbody>\n",
       "    <tr>\n",
       "      <th>Mass (kg)</th>\n",
       "      <td>0.024008</td>\n",
       "    </tr>\n",
       "    <tr>\n",
       "      <th>W (mm)</th>\n",
       "      <td>0.020046</td>\n",
       "    </tr>\n",
       "    <tr>\n",
       "      <th>Steering Axle (mm)</th>\n",
       "      <td>0.023572</td>\n",
       "    </tr>\n",
       "    <tr>\n",
       "      <th>Other Axle (mm)</th>\n",
       "      <td>0.017593</td>\n",
       "    </tr>\n",
       "    <tr>\n",
       "      <th>Ft</th>\n",
       "      <td>6.082355</td>\n",
       "    </tr>\n",
       "    <tr>\n",
       "      <th>Fm</th>\n",
       "      <td>-22.172501</td>\n",
       "    </tr>\n",
       "    <tr>\n",
       "      <th>Engine Capacity (cm3)</th>\n",
       "      <td>0.021436</td>\n",
       "    </tr>\n",
       "    <tr>\n",
       "      <th>Engine Power (KW)</th>\n",
       "      <td>-0.026309</td>\n",
       "    </tr>\n",
       "    <tr>\n",
       "      <th>Mk</th>\n",
       "      <td>-0.144219</td>\n",
       "    </tr>\n",
       "    <tr>\n",
       "      <th>Category Type Approved</th>\n",
       "      <td>1.208255</td>\n",
       "    </tr>\n",
       "    <tr>\n",
       "      <th>Category Registered</th>\n",
       "      <td>2.263202</td>\n",
       "    </tr>\n",
       "  </tbody>\n",
       "</table>\n",
       "</div>"
      ],
      "text/plain": [
       "                        Coeffecient\n",
       "Mass (kg)                  0.024008\n",
       "W (mm)                     0.020046\n",
       "Steering Axle (mm)         0.023572\n",
       "Other Axle (mm)            0.017593\n",
       "Ft                         6.082355\n",
       "Fm                       -22.172501\n",
       "Engine Capacity (cm3)      0.021436\n",
       "Engine Power (KW)         -0.026309\n",
       "Mk                        -0.144219\n",
       "Category Type Approved     1.208255\n",
       "Category Registered        2.263202"
      ]
     },
     "execution_count": 125,
     "metadata": {},
     "output_type": "execute_result"
    }
   ],
   "source": [
    "#Coffecient DataFrame\n",
    "coeffecients = pd.DataFrame(lin.coef_,X.columns)\n",
    "coeffecients.columns = ['Coeffecient']\n",
    "coeffecients"
   ]
  },
  {
   "cell_type": "markdown",
   "metadata": {},
   "source": [
    "# Ridge Regression"
   ]
  },
  {
   "cell_type": "code",
   "execution_count": 203,
   "metadata": {},
   "outputs": [],
   "source": [
    "# Independent and dependent variables\n",
    "X = ml_transform[['Mass (kg)','W (mm)','Steering Axle (mm)','Other Axle (mm)', 'Ft', 'Fm', 'Engine Capacity (cm3)','Engine Power (KW)','Mk', 'Category Type Approved', 'Category Registered']]\n",
    "y = ml_transform['CO2 (g/km)']"
   ]
  },
  {
   "cell_type": "code",
   "execution_count": 204,
   "metadata": {},
   "outputs": [],
   "source": [
    "# Splitting into training and testing\n",
    "from sklearn.model_selection import train_test_split\n",
    "X_train,X_test,y_train,y_test=train_test_split(X,y,test_size=0.2)"
   ]
  },
  {
   "cell_type": "code",
   "execution_count": 205,
   "metadata": {},
   "outputs": [
    {
     "data": {
      "text/plain": [
       "Ridge(alpha=0.5)"
      ]
     },
     "execution_count": 205,
     "metadata": {},
     "output_type": "execute_result"
    }
   ],
   "source": [
    "from sklearn.linear_model import Ridge\n",
    "ridge = Ridge(alpha=0.5)\n",
    "ridge.fit(X_train,y_train)"
   ]
  },
  {
   "cell_type": "code",
   "execution_count": 206,
   "metadata": {},
   "outputs": [
    {
     "name": "stdout",
     "output_type": "stream",
     "text": [
      "Coefficients: \n",
      " [ 2.83528498e-02  1.59181166e-02  2.75810433e-02  1.56238731e-02\n",
      "  6.23915621e+00 -2.22692293e+01  2.29989287e-02 -4.30693995e-02\n",
      " -1.33796338e-01]\n"
     ]
    }
   ],
   "source": [
    "# Printing out the Coefficient\n",
    "print('Coefficients: \\n', ridge.coef_)"
   ]
  },
  {
   "cell_type": "code",
   "execution_count": 207,
   "metadata": {},
   "outputs": [
    {
     "data": {
      "text/plain": [
       "array([129.05858179, 113.41075476, 142.08692104, ..., 110.58132159,\n",
       "       113.4622932 , 125.64904177])"
      ]
     },
     "execution_count": 207,
     "metadata": {},
     "output_type": "execute_result"
    }
   ],
   "source": [
    "# Prediction\n",
    "ridge_prediction = ridge.predict(X_test)\n",
    "ridge_prediction"
   ]
  },
  {
   "cell_type": "code",
   "execution_count": 208,
   "metadata": {},
   "outputs": [
    {
     "data": {
      "text/plain": [
       "Text(0, 0.5, 'Y Prediction')"
      ]
     },
     "execution_count": 208,
     "metadata": {},
     "output_type": "execute_result"
    },
    {
     "data": {
      "image/png": "[encoded data removed]",
      "text/plain": [
       "<Figure size 432x288 with 1 Axes>"
      ]
     },
     "metadata": {
      "needs_background": "light"
     },
     "output_type": "display_data"
    }
   ],
   "source": [
    "plt.scatter(y_test,ridge_prediction)\n",
    "plt.xlabel('Y Test')\n",
    "plt.ylabel('Y Prediction')"
   ]
  },
  {
   "cell_type": "code",
   "execution_count": 209,
   "metadata": {},
   "outputs": [
    {
     "name": "stdout",
     "output_type": "stream",
     "text": [
      "Training data score: 0.7300253917501437\n",
      "Testing data score:  0.7441828085590814\n"
     ]
    }
   ],
   "source": [
    "# Print scores\n",
    "print(\"Training data score:\", ridge.score(X_train,y_train))\n",
    "print(\"Testing data score: \", ridge.score(X_test,y_test))"
   ]
  },
  {
   "cell_type": "code",
   "execution_count": 202,
   "metadata": {},
   "outputs": [
    {
     "name": "stdout",
     "output_type": "stream",
     "text": [
      "Mean-Squared Error: 133.52028855299855\n",
      "Explained Variance Score: 0.732276525956333\n",
      "r2_Score: 0.7322627273746145\n"
     ]
    }
   ],
   "source": [
    "# Model accuracy\n",
    "from sklearn.metrics import explained_variance_score, mean_squared_error, r2_score, mean_absolute_error\n",
    "print(\"Mean-Squared Error:\",mean_squared_error(y_test,ridge_prediction))\n",
    "print(\"Explained Variance Score:\",explained_variance_score(y_test, ridge_prediction))\n",
    "print(\"r2_Score:\",r2_score(y_test,ridge_prediction))"
   ]
  },
  {
   "cell_type": "code",
   "execution_count": 194,
   "metadata": {},
   "outputs": [
    {
     "data": {
      "text/html": [
       "<div>\n",
       "<style scoped>\n",
       "    .dataframe tbody tr th:only-of-type {\n",
       "        vertical-align: middle;\n",
       "    }\n",
       "\n",
       "    .dataframe tbody tr th {\n",
       "        vertical-align: top;\n",
       "    }\n",
       "\n",
       "    .dataframe thead th {\n",
       "        text-align: right;\n",
       "    }\n",
       "</style>\n",
       "<table border=\"1\" class=\"dataframe\">\n",
       "  <thead>\n",
       "    <tr style=\"text-align: right;\">\n",
       "      <th></th>\n",
       "      <th>Coeffecient</th>\n",
       "    </tr>\n",
       "  </thead>\n",
       "  <tbody>\n",
       "    <tr>\n",
       "      <th>Mass (kg)</th>\n",
       "      <td>0.028852</td>\n",
       "    </tr>\n",
       "    <tr>\n",
       "      <th>W (mm)</th>\n",
       "      <td>0.015609</td>\n",
       "    </tr>\n",
       "    <tr>\n",
       "      <th>Steering Axle (mm)</th>\n",
       "      <td>0.028300</td>\n",
       "    </tr>\n",
       "    <tr>\n",
       "      <th>Other Axle (mm)</th>\n",
       "      <td>0.013183</td>\n",
       "    </tr>\n",
       "    <tr>\n",
       "      <th>Ft</th>\n",
       "      <td>6.211229</td>\n",
       "    </tr>\n",
       "    <tr>\n",
       "      <th>Fm</th>\n",
       "      <td>-22.688830</td>\n",
       "    </tr>\n",
       "    <tr>\n",
       "      <th>Engine Capacity (cm3)</th>\n",
       "      <td>0.022749</td>\n",
       "    </tr>\n",
       "    <tr>\n",
       "      <th>Engine Power (KW)</th>\n",
       "      <td>-0.034558</td>\n",
       "    </tr>\n",
       "  </tbody>\n",
       "</table>\n",
       "</div>"
      ],
      "text/plain": [
       "                       Coeffecient\n",
       "Mass (kg)                 0.028852\n",
       "W (mm)                    0.015609\n",
       "Steering Axle (mm)        0.028300\n",
       "Other Axle (mm)           0.013183\n",
       "Ft                        6.211229\n",
       "Fm                      -22.688830\n",
       "Engine Capacity (cm3)     0.022749\n",
       "Engine Power (KW)        -0.034558"
      ]
     },
     "execution_count": 194,
     "metadata": {},
     "output_type": "execute_result"
    }
   ],
   "source": [
    "#Ridge Coffecient DataFrame\n",
    "coeffecients_2 = pd.DataFrame(ridge.coef_,X.columns)\n",
    "coeffecients_2.columns = ['Coeffecient']\n",
    "coeffecients_2"
   ]
  },
  {
   "cell_type": "markdown",
   "metadata": {},
   "source": [
    "# Single Linear Regression"
   ]
  },
  {
   "cell_type": "code",
   "execution_count": 140,
   "metadata": {},
   "outputs": [],
   "source": [
    "# Independent and dependent variables\n",
    "X = ml_transform['Ft']\n",
    "y = ml_transform['CO2 (g/km)']"
   ]
  },
  {
   "cell_type": "code",
   "execution_count": 141,
   "metadata": {},
   "outputs": [],
   "source": [
    "# Splitting into training and testing\n",
    "from sklearn.model_selection import train_test_split\n",
    "X_train,X_test,y_train,y_test=train_test_split(X,y,test_size=0.2)"
   ]
  },
  {
   "cell_type": "code",
   "execution_count": 143,
   "metadata": {},
   "outputs": [
    {
     "data": {
      "text/plain": [
       "LinearRegression()"
      ]
     },
     "execution_count": 143,
     "metadata": {},
     "output_type": "execute_result"
    }
   ],
   "source": [
    "# Training linear regression model on training dataset\n",
    "from sklearn.linear_model import LinearRegression\n",
    "linn=LinearRegression()\n",
    "linn.fit(np.array(X_train).reshape(-1,1), np.array(y_train).reshape(-1,1))"
   ]
  },
  {
   "cell_type": "code",
   "execution_count": 144,
   "metadata": {},
   "outputs": [
    {
     "name": "stdout",
     "output_type": "stream",
     "text": [
      "Coefficients: \n",
      " [[1.91461085]]\n"
     ]
    }
   ],
   "source": [
    "# Printing out the Coefficient\n",
    "print('Coefficients: \\n', linn.coef_)"
   ]
  },
  {
   "cell_type": "code",
   "execution_count": 146,
   "metadata": {},
   "outputs": [
    {
     "data": {
      "text/plain": [
       "array([[120.93957656],\n",
       "       [120.93957656],\n",
       "       [111.36652229],\n",
       "       ...,\n",
       "       [111.36652229],\n",
       "       [120.93957656],\n",
       "       [120.93957656]])"
      ]
     },
     "execution_count": 146,
     "metadata": {},
     "output_type": "execute_result"
    }
   ],
   "source": [
    "# Prediction\n",
    "SR_prediction = linn.predict(np.array(X_test).reshape(-1,1))\n",
    "SR_prediction"
   ]
  },
  {
   "cell_type": "code",
   "execution_count": 147,
   "metadata": {},
   "outputs": [
    {
     "data": {
      "text/plain": [
       "Text(0, 0.5, 'Y Prediction')"
      ]
     },
     "execution_count": 147,
     "metadata": {},
     "output_type": "execute_result"
    },
    {
     "data": {
      "image/png": "[encoded data removed]",
      "text/plain": [
       "<Figure size 432x288 with 1 Axes>"
      ]
     },
     "metadata": {
      "needs_background": "light"
     },
     "output_type": "display_data"
    }
   ],
   "source": [
    "plt.scatter(y_test,SR_prediction)\n",
    "plt.xlabel('Y Test')\n",
    "plt.ylabel('Y Prediction')"
   ]
  },
  {
   "cell_type": "code",
   "execution_count": 149,
   "metadata": {},
   "outputs": [
    {
     "name": "stdout",
     "output_type": "stream",
     "text": [
      "Training data score: 0.04795381256100684\n",
      "Testing data score:  0.0446954769006036\n"
     ]
    }
   ],
   "source": [
    "# Print scores\n",
    "print(\"Training data score:\", linn.score(np.array(X_train).reshape(-1,1), np.array(y_train).reshape(-1,1)))\n",
    "print(\"Testing data score: \", linn.score(np.array(X_test).reshape(-1,1), np.array(y_test).reshape(-1,1)))"
   ]
  },
  {
   "cell_type": "code",
   "execution_count": 150,
   "metadata": {},
   "outputs": [
    {
     "name": "stdout",
     "output_type": "stream",
     "text": [
      "Mean-Squared Error: 466.9950943482923\n",
      "Explained Variance Score: 0.04531056775940634\n",
      "r2_Score: 0.0446954769006036\n"
     ]
    }
   ],
   "source": [
    "# Model accuracy\n",
    "from sklearn.metrics import explained_variance_score, mean_squared_error, r2_score, mean_absolute_error\n",
    "print(\"Mean-Squared Error:\",mean_squared_error(y_test,SR_prediction))\n",
    "print(\"Explained Variance Score:\",explained_variance_score(y_test, SR_prediction))\n",
    "print(\"r2_Score:\",r2_score(y_test,SR_prediction))"
   ]
  },
  {
   "cell_type": "markdown",
   "metadata": {},
   "source": [
    "# Lasso Regression"
   ]
  },
  {
   "cell_type": "code",
   "execution_count": 227,
   "metadata": {},
   "outputs": [],
   "source": [
    "# Independent and dependent variables\n",
    "X = ml_transform[['Mass (kg)','W (mm)','Steering Axle (mm)','Ft','Engine Capacity (cm3)','Engine Power (KW)']]\n",
    "y = ml_transform['CO2 (g/km)']"
   ]
  },
  {
   "cell_type": "code",
   "execution_count": 228,
   "metadata": {},
   "outputs": [],
   "source": [
    "# Splitting into training and testing\n",
    "from sklearn.model_selection import train_test_split\n",
    "X_train,X_test,y_train,y_test=train_test_split(X,y,test_size=0.2)"
   ]
  },
  {
   "cell_type": "code",
   "execution_count": 229,
   "metadata": {},
   "outputs": [
    {
     "data": {
      "text/plain": [
       "Lasso(alpha=1)"
      ]
     },
     "execution_count": 229,
     "metadata": {},
     "output_type": "execute_result"
    }
   ],
   "source": [
    "from sklearn.linear_model import Lasso\n",
    "lasso = Lasso(alpha=1)\n",
    "lasso.fit(X_train,y_train)"
   ]
  },
  {
   "cell_type": "code",
   "execution_count": 230,
   "metadata": {},
   "outputs": [
    {
     "name": "stdout",
     "output_type": "stream",
     "text": [
      "Coefficients: \n",
      " [ 0.02586131  0.02086006  0.03185695  5.98437987  0.02207975 -0.01630782]\n"
     ]
    }
   ],
   "source": [
    "# Printing out the Coefficient\n",
    "print('Coefficients: \\n', lasso.coef_)"
   ]
  },
  {
   "cell_type": "code",
   "execution_count": 231,
   "metadata": {},
   "outputs": [
    {
     "data": {
      "text/plain": [
       "array([112.36237043, 104.05770901, 134.39010892, ..., 129.20128493,\n",
       "        97.00210814, 104.80133747])"
      ]
     },
     "execution_count": 231,
     "metadata": {},
     "output_type": "execute_result"
    }
   ],
   "source": [
    "# Prediction\n",
    "L_prediction = lasso.predict(X_test)\n",
    "L_prediction"
   ]
  },
  {
   "cell_type": "code",
   "execution_count": 232,
   "metadata": {},
   "outputs": [
    {
     "data": {
      "text/plain": [
       "Text(0, 0.5, 'Y Prediction')"
      ]
     },
     "execution_count": 232,
     "metadata": {},
     "output_type": "execute_result"
    },
    {
     "data": {
      "image/png": "[encoded data removed]",
      "text/plain": [
       "<Figure size 432x288 with 1 Axes>"
      ]
     },
     "metadata": {
      "needs_background": "light"
     },
     "output_type": "display_data"
    }
   ],
   "source": [
    "plt.scatter(y_test,L_prediction)\n",
    "plt.xlabel('Y Test')\n",
    "plt.ylabel('Y Prediction')"
   ]
  },
  {
   "cell_type": "code",
   "execution_count": 233,
   "metadata": {},
   "outputs": [
    {
     "name": "stdout",
     "output_type": "stream",
     "text": [
      "Training data score: 0.7294235829443558\n",
      "Testing data score:  0.6851348973692355\n"
     ]
    }
   ],
   "source": [
    "# Print scores\n",
    "print(\"Training data score:\", lasso.score(X_train,y_train))\n",
    "print(\"Testing data score: \", lasso.score(X_test,y_test))"
   ]
  },
  {
   "cell_type": "code",
   "execution_count": 234,
   "metadata": {},
   "outputs": [
    {
     "name": "stdout",
     "output_type": "stream",
     "text": [
      "Mean-Squared Error: 150.79668955463046\n",
      "Explained Variance Score: 0.6852213391146036\n",
      "r2_Score: 0.6851348973692355\n"
     ]
    }
   ],
   "source": [
    "# Model accuracy\n",
    "from sklearn.metrics import explained_variance_score, mean_squared_error, r2_score, mean_absolute_error\n",
    "print(\"Mean-Squared Error:\",mean_squared_error(y_test,L_prediction))\n",
    "print(\"Explained Variance Score:\",explained_variance_score(y_test, L_prediction))\n",
    "print(\"r2_Score:\",r2_score(y_test,L_prediction))"
   ]
  },
  {
   "cell_type": "code",
   "execution_count": 218,
   "metadata": {},
   "outputs": [
    {
     "data": {
      "text/html": [
       "<div>\n",
       "<style scoped>\n",
       "    .dataframe tbody tr th:only-of-type {\n",
       "        vertical-align: middle;\n",
       "    }\n",
       "\n",
       "    .dataframe tbody tr th {\n",
       "        vertical-align: top;\n",
       "    }\n",
       "\n",
       "    .dataframe thead th {\n",
       "        text-align: right;\n",
       "    }\n",
       "</style>\n",
       "<table border=\"1\" class=\"dataframe\">\n",
       "  <thead>\n",
       "    <tr style=\"text-align: right;\">\n",
       "      <th></th>\n",
       "      <th>Coeffecient</th>\n",
       "    </tr>\n",
       "  </thead>\n",
       "  <tbody>\n",
       "    <tr>\n",
       "      <th>Mass (kg)</th>\n",
       "      <td>0.024870</td>\n",
       "    </tr>\n",
       "    <tr>\n",
       "      <th>W (mm)</th>\n",
       "      <td>0.022424</td>\n",
       "    </tr>\n",
       "    <tr>\n",
       "      <th>Steering Axle (mm)</th>\n",
       "      <td>0.024578</td>\n",
       "    </tr>\n",
       "    <tr>\n",
       "      <th>Other Axle (mm)</th>\n",
       "      <td>0.002425</td>\n",
       "    </tr>\n",
       "    <tr>\n",
       "      <th>Ft</th>\n",
       "      <td>5.827523</td>\n",
       "    </tr>\n",
       "    <tr>\n",
       "      <th>Fm</th>\n",
       "      <td>-0.000000</td>\n",
       "    </tr>\n",
       "    <tr>\n",
       "      <th>Engine Capacity (cm3)</th>\n",
       "      <td>0.021463</td>\n",
       "    </tr>\n",
       "    <tr>\n",
       "      <th>Engine Power (KW)</th>\n",
       "      <td>-0.012280</td>\n",
       "    </tr>\n",
       "    <tr>\n",
       "      <th>Mk</th>\n",
       "      <td>-0.157797</td>\n",
       "    </tr>\n",
       "  </tbody>\n",
       "</table>\n",
       "</div>"
      ],
      "text/plain": [
       "                       Coeffecient\n",
       "Mass (kg)                 0.024870\n",
       "W (mm)                    0.022424\n",
       "Steering Axle (mm)        0.024578\n",
       "Other Axle (mm)           0.002425\n",
       "Ft                        5.827523\n",
       "Fm                       -0.000000\n",
       "Engine Capacity (cm3)     0.021463\n",
       "Engine Power (KW)        -0.012280\n",
       "Mk                       -0.157797"
      ]
     },
     "execution_count": 218,
     "metadata": {},
     "output_type": "execute_result"
    }
   ],
   "source": [
    "#Coffecient DataFrame\n",
    "coeffecients = pd.DataFrame(lasso.coef_,X.columns)\n",
    "coeffecients.columns = ['Coeffecient']\n",
    "coeffecients"
   ]
  },
  {
   "cell_type": "code",
   "execution_count": null,
   "metadata": {},
   "outputs": [],
   "source": []
  }
 ],
 "metadata": {
  "interpreter": {
   "hash": "b8e6ec6524456483af0771a05c1fa66c2d204a133f366da3781de22edffd336b"
  },
  "kernelspec": {
   "display_name": "Python 3.7.11 ('mlenv')",
   "language": "python",
   "name": "python3"
  },
  "language_info": {
   "codemirror_mode": {
    "name": "ipython",
    "version": 3
   },
   "file_extension": ".py",
   "mimetype": "text/x-python",
   "name": "python",
   "nbconvert_exporter": "python",
   "pygments_lexer": "ipython3",
   "version": "3.9.7"
  },
  "orig_nbformat": 4
 },
 "nbformat": 4,
 "nbformat_minor": 2
}
