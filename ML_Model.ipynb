{
 "cells": [
  {
   "cell_type": "code",
   "execution_count": 1,
   "id": "47216d31",
   "metadata": {},
   "outputs": [],
   "source": [
    "import pandas as pd\n",
    "import os\n",
    "import sqlite3\n",
    "from sklearn import linear_model"
   ]
  },
  {
   "cell_type": "code",
   "execution_count": 2,
   "id": "99663dad",
   "metadata": {},
   "outputs": [
    {
     "name": "stdout",
     "output_type": "stream",
     "text": [
      "Initiated successfully\n"
     ]
    }
   ],
   "source": [
    "# connect sqlite\n",
    "conn = sqlite3.connect('mock_data.db')\n",
    "\n",
    "print (\"Initiated successfully\")"
   ]
  },
  {
   "cell_type": "code",
   "execution_count": 4,
   "id": "72c94989",
   "metadata": {},
   "outputs": [],
   "source": [
    "# get data\n",
    "df_db = conn.execute(\"SELECT * FROM MOCK_ML\").fetchall()"
   ]
  },
  {
   "cell_type": "code",
   "execution_count": 7,
   "id": "ab57ac89",
   "metadata": {},
   "outputs": [
    {
     "ename": "NameError",
     "evalue": "name 'MOCK_ML' is not defined",
     "output_type": "error",
     "traceback": [
      "\u001b[1;31m---------------------------------------------------------------------------\u001b[0m",
      "\u001b[1;31mNameError\u001b[0m                                 Traceback (most recent call last)",
      "\u001b[1;32m~\\AppData\\Local\\Temp/ipykernel_41808/4282275492.py\u001b[0m in \u001b[0;36m<module>\u001b[1;34m\u001b[0m\n\u001b[0;32m      1\u001b[0m \u001b[1;31m# Check columns\u001b[0m\u001b[1;33m\u001b[0m\u001b[1;33m\u001b[0m\u001b[1;33m\u001b[0m\u001b[0m\n\u001b[1;32m----> 2\u001b[1;33m \u001b[0mMOCK_ML\u001b[0m\u001b[1;33m.\u001b[0m\u001b[0mcolumns\u001b[0m\u001b[1;33m\u001b[0m\u001b[1;33m\u001b[0m\u001b[0m\n\u001b[0m",
      "\u001b[1;31mNameError\u001b[0m: name 'MOCK_ML' is not defined"
     ]
    }
   ],
   "source": [
    "# Check columns\n",
    ".columns"
   ]
  },
  {
   "cell_type": "code",
   "execution_count": null,
   "id": "61e03dce",
   "metadata": {},
   "outputs": [],
   "source": []
  }
 ],
 "metadata": {
  "kernelspec": {
   "display_name": "mlenv",
   "language": "python",
   "name": "mlenv"
  },
  "language_info": {
   "codemirror_mode": {
    "name": "ipython",
    "version": 3
   },
   "file_extension": ".py",
   "mimetype": "text/x-python",
   "name": "python",
   "nbconvert_exporter": "python",
   "pygments_lexer": "ipython3",
   "version": "3.7.11"
  }
 },
 "nbformat": 4,
 "nbformat_minor": 5
}
